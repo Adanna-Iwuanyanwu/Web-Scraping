{
 "cells": [
  {
   "cell_type": "markdown",
   "id": "a8233e95",
   "metadata": {},
   "source": [
    "## WEB SCRAPPING EXERCISE"
   ]
  },
  {
   "cell_type": "code",
   "execution_count": 3,
   "id": "c9992cd2",
   "metadata": {},
   "outputs": [],
   "source": [
    "#importing the required libraries for the scrapping\n",
    "import requests\n",
    "import csv\n",
    "import pandas as pd\n",
    "from bs4 import BeautifulSoup\n",
    "from csv import writer"
   ]
  },
  {
   "cell_type": "code",
   "execution_count": 4,
   "id": "3b503f7a",
   "metadata": {},
   "outputs": [
    {
     "name": "stdout",
     "output_type": "stream",
     "text": [
      "200\n"
     ]
    }
   ],
   "source": [
    "#the website Url\n",
    "url = 'https://finance.yahoo.com/most-active'\n",
    "\n",
    "#creating a get request from the website. 200 means access was granted.\n",
    "response = requests.get(url)\n",
    "status = response.status_code\n",
    "print(status)\n"
   ]
  },
  {
   "cell_type": "code",
   "execution_count": 5,
   "id": "e62d6167",
   "metadata": {},
   "outputs": [],
   "source": [
    "#creating a soup to parse the HTML\n",
    "content = response.text\n",
    "soup = BeautifulSoup(content, \"html.parser\")"
   ]
  },
  {
   "cell_type": "code",
   "execution_count": 6,
   "id": "06906b72",
   "metadata": {},
   "outputs": [],
   "source": [
    "#Extracting the data from the website through its HTML \n",
    "\n",
    "#primary tag which holds the entire table data\n",
    "table = soup.find('table', {'class':\"W(100%)\"})\n",
    "\n",
    "#secondary tag which holds the table information and corresponding tag\n",
    "stock_data = table.find_all('tr', {'class':\"simpTblRow Bgc($hoverBgColor):h BdB Bdbc($seperatorColor) Bdbc($tableBorderBlue):h H(32px) Bgc($lv2BgColor)\"})"
   ]
  },
  {
   "cell_type": "code",
   "execution_count": 7,
   "id": "59909613",
   "metadata": {},
   "outputs": [],
   "source": [
    "#looping throught the data, first i created empty list variables to append the data collected at each interval.\n",
    "\n",
    "name = []\n",
    "price = []\n",
    "change = []\n",
    "per_change = []\n",
    "volume = []\n",
    "avg_vol = []\n",
    "market_cap = []\n",
    "PE = []\n",
    "\n",
    "for s in stock_data:\n",
    "    names = s.find('td', {'aria-label':'Name'}).text\n",
    "    name.append(names)\n",
    "    \n",
    "    prices = s.find('td', {'aria-label':'Price (Intraday)'}).text\n",
    "    price.append(prices)\n",
    "    \n",
    "    changes = s.find('td', {'aria-label':'Change'}).text\n",
    "    change.append(changes)\n",
    "    \n",
    "    per_changes = s.find('td', {'aria-label':'% Change'}).text\n",
    "    per_change.append(per_changes)\n",
    "    \n",
    "    volumes = s.find('td', {'aria-label':'Volume'}).text\n",
    "    volume.append(volumes)\n",
    "    \n",
    "    avg_vols = s.find('td', {'aria-label':\"Avg Vol (3 month)\"}).text\n",
    "    avg_vol.append(avg_vols)\n",
    "    \n",
    "    markets = s.find('td', {'aria-label':'Market Cap'}).text\n",
    "    market_cap.append(markets)\n",
    "    \n",
    "    PEs = s.find('td', {'aria-label':'PE Ratio (TTM)'}).text\n",
    "    PE.append(PEs)   "
   ]
  },
  {
   "cell_type": "code",
   "execution_count": 8,
   "id": "d54dfd2c",
   "metadata": {},
   "outputs": [],
   "source": [
    "#creating a dictionary with the data before putting it in a dataframe\n",
    "my_stock = {'Company Name': name, 'Stock_Price': price, 'Company_Change': change,\n",
    "            'Percent_Change': per_change, 'Volume': volume, 'Average_Vol':avg_vol,\n",
    "           'Market': market_cap, 'PE Ratio': PE}"
   ]
  },
  {
   "cell_type": "code",
   "execution_count": 9,
   "id": "677f80de",
   "metadata": {},
   "outputs": [
    {
     "data": {
      "text/html": [
       "<div>\n",
       "<style scoped>\n",
       "    .dataframe tbody tr th:only-of-type {\n",
       "        vertical-align: middle;\n",
       "    }\n",
       "\n",
       "    .dataframe tbody tr th {\n",
       "        vertical-align: top;\n",
       "    }\n",
       "\n",
       "    .dataframe thead th {\n",
       "        text-align: right;\n",
       "    }\n",
       "</style>\n",
       "<table border=\"1\" class=\"dataframe\">\n",
       "  <thead>\n",
       "    <tr style=\"text-align: right;\">\n",
       "      <th></th>\n",
       "      <th>Company Name</th>\n",
       "      <th>Stock_Price</th>\n",
       "      <th>Company_Change</th>\n",
       "      <th>Percent_Change</th>\n",
       "      <th>Volume</th>\n",
       "      <th>Average_Vol</th>\n",
       "      <th>Market</th>\n",
       "      <th>PE Ratio</th>\n",
       "    </tr>\n",
       "  </thead>\n",
       "  <tbody>\n",
       "    <tr>\n",
       "      <th>0</th>\n",
       "      <td>Tesla, Inc.</td>\n",
       "      <td>185.39</td>\n",
       "      <td>-0.13</td>\n",
       "      <td>-0.07%</td>\n",
       "      <td>107.431M</td>\n",
       "      <td>171.68M</td>\n",
       "      <td>608.91B</td>\n",
       "      <td>53.74</td>\n",
       "    </tr>\n",
       "    <tr>\n",
       "      <th>1</th>\n",
       "      <td>C3.ai, Inc.</td>\n",
       "      <td>22.77</td>\n",
       "      <td>+1.68</td>\n",
       "      <td>+7.97%</td>\n",
       "      <td>54.765M</td>\n",
       "      <td>23.534M</td>\n",
       "      <td>3.023B</td>\n",
       "      <td>N/A</td>\n",
       "    </tr>\n",
       "  </tbody>\n",
       "</table>\n",
       "</div>"
      ],
      "text/plain": [
       "  Company Name Stock_Price Company_Change Percent_Change    Volume  \\\n",
       "0  Tesla, Inc.      185.39          -0.13         -0.07%  107.431M   \n",
       "1  C3.ai, Inc.       22.77          +1.68         +7.97%   54.765M   \n",
       "\n",
       "  Average_Vol   Market PE Ratio  \n",
       "0     171.68M  608.91B    53.74  \n",
       "1     23.534M   3.023B      N/A  "
      ]
     },
     "execution_count": 9,
     "metadata": {},
     "output_type": "execute_result"
    }
   ],
   "source": [
    "#puttin the data in a dataframe\n",
    "df = pd.DataFrame(my_stock)\n",
    "df.head(2)"
   ]
  },
  {
   "cell_type": "code",
   "execution_count": 10,
   "id": "53525d0d",
   "metadata": {},
   "outputs": [],
   "source": [
    "#Saving to data as csv file\n",
    "df.to_csv('stock.csv')"
   ]
  }
 ],
 "metadata": {
  "kernelspec": {
   "display_name": "Python 3 (ipykernel)",
   "language": "python",
   "name": "python3"
  },
  "language_info": {
   "codemirror_mode": {
    "name": "ipython",
    "version": 3
   },
   "file_extension": ".py",
   "mimetype": "text/x-python",
   "name": "python",
   "nbconvert_exporter": "python",
   "pygments_lexer": "ipython3",
   "version": "3.9.12"
  }
 },
 "nbformat": 4,
 "nbformat_minor": 5
}
